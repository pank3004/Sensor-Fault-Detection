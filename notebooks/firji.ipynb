{
 "cells": [
  {
   "cell_type": "code",
   "execution_count": null,
   "id": "b607d98d",
   "metadata": {},
   "outputs": [],
   "source": [
    "\n",
    "import os\n",
    "from src.constant import *\n",
    "from dataclasses import dataclass\n",
    "\n",
    "@dataclass\n",
    "class DataIngestionConfig: \n",
    "    self.artifact_folder:str=os.path.join(ARTIFACT_FOLDER)"
   ]
  },
  {
   "cell_type": "code",
   "execution_count": null,
   "id": "65a073e6",
   "metadata": {},
   "outputs": [],
   "source": []
  },
  {
   "cell_type": "code",
   "execution_count": 3,
   "id": "ae0f4853",
   "metadata": {},
   "outputs": [],
   "source": [
    "obj=DataIngestionConfig()"
   ]
  },
  {
   "cell_type": "code",
   "execution_count": 4,
   "id": "8a283cb9",
   "metadata": {},
   "outputs": [
    {
     "data": {
      "text/plain": [
       "'artifacts'"
      ]
     },
     "execution_count": 4,
     "metadata": {},
     "output_type": "execute_result"
    }
   ],
   "source": [
    "obj.artifact_folder"
   ]
  },
  {
   "cell_type": "code",
   "execution_count": 3,
   "id": "0f27a2b0",
   "metadata": {},
   "outputs": [],
   "source": [
    "report={}\n",
    "\n",
    "report['name']='pankaj'\n",
    "report['age']=53"
   ]
  },
  {
   "cell_type": "code",
   "execution_count": 4,
   "id": "bc589314",
   "metadata": {},
   "outputs": [
    {
     "data": {
      "text/plain": [
       "{'name': 'pankaj', 'age': 53}"
      ]
     },
     "execution_count": 4,
     "metadata": {},
     "output_type": "execute_result"
    }
   ],
   "source": [
    "report"
   ]
  },
  {
   "cell_type": "code",
   "execution_count": null,
   "id": "858bfde0",
   "metadata": {},
   "outputs": [],
   "source": []
  },
  {
   "cell_type": "code",
   "execution_count": null,
   "id": "f030e77e",
   "metadata": {},
   "outputs": [],
   "source": [
    "\n",
    "best_model_name = list(report.keys())[list(report.values()).index(53)]\n"
   ]
  },
  {
   "cell_type": "code",
   "execution_count": null,
   "id": "32411f2c",
   "metadata": {},
   "outputs": [
    {
     "data": {
      "text/plain": [
       "['name', 'age']"
      ]
     },
     "execution_count": 8,
     "metadata": {},
     "output_type": "execute_result"
    }
   ],
   "source": [
    "list(report.keys())"
   ]
  },
  {
   "cell_type": "code",
   "execution_count": 11,
   "id": "961ae699",
   "metadata": {},
   "outputs": [
    {
     "data": {
      "text/plain": [
       "1"
      ]
     },
     "execution_count": 11,
     "metadata": {},
     "output_type": "execute_result"
    }
   ],
   "source": [
    "list(report.values()).index(53)"
   ]
  },
  {
   "cell_type": "code",
   "execution_count": null,
   "id": "b3363ea1",
   "metadata": {},
   "outputs": [],
   "source": []
  }
 ],
 "metadata": {
  "kernelspec": {
   "display_name": "env",
   "language": "python",
   "name": "python3"
  },
  "language_info": {
   "codemirror_mode": {
    "name": "ipython",
    "version": 3
   },
   "file_extension": ".py",
   "mimetype": "text/x-python",
   "name": "python",
   "nbconvert_exporter": "python",
   "pygments_lexer": "ipython3",
   "version": "3.10.16"
  }
 },
 "nbformat": 4,
 "nbformat_minor": 5
}
